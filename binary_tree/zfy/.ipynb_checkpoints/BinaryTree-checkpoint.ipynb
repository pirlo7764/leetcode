{
 "cells": [
  {
   "cell_type": "markdown",
   "metadata": {},
   "source": [
    "# 27. 二叉树的镜像20200811"
   ]
  },
  {
   "cell_type": "raw",
   "metadata": {},
   "source": [
    "class Solution:\n",
    "    def reverse(self,treenew,treeold):\n",
    "        if treeold is None:\n",
    "            return\n",
    "        if treeold.right is not None:\n",
    "            treenew.left=TreeNode(treeold.right.val)\n",
    "        if treeold.left is not None:\n",
    "            treenew.right=TreeNode(treeold.left.val)\n",
    "        self.reverse(treenew.left,treeold.right)\n",
    "        self.reverse(treenew.right,treeold.left)\n",
    "    def mirrorTree(self, root: TreeNode) -> TreeNode:\n",
    "        if root is None:\n",
    "            return root\n",
    "        rootnew=TreeNode(root.val)\n",
    "        self.reverse(rootnew,root)\n",
    "        return rootnew"
   ]
  },
  {
   "cell_type": "markdown",
   "metadata": {},
   "source": [
    "# 28. 对称的二叉树20200811"
   ]
  },
  {
   "cell_type": "raw",
   "metadata": {},
   "source": [
    "class Solution:\n",
    "    def check(self,a,b):\n",
    "        if a is None and b is None:\n",
    "            return True\n",
    "        if a is None or b is None:\n",
    "            return False\n",
    "        if a.val!=b.val:\n",
    "            return False\n",
    "        if a.val==b.val:\n",
    "            return self.check(a.left,b.right) and self.check(a.right,b.left)\n",
    "\n",
    "    def isSymmetric(self, root: TreeNode) -> bool:\n",
    "        if root is None:\n",
    "            return True\n",
    "        else:\n",
    "            return self.check(root.left,root.right)"
   ]
  },
  {
   "cell_type": "markdown",
   "metadata": {},
   "source": [
    "# 54. 二叉搜索树的第k大节点20200812"
   ]
  },
  {
   "cell_type": "raw",
   "metadata": {},
   "source": [
    "class Solution:\n",
    "    def visit(self,tree):\n",
    "        if tree is None:\n",
    "            return 0\n",
    "        self.visit(tree.right)\n",
    "        self.ct+=1\n",
    "        if self.ct==self.total:\n",
    "            self.ret=tree.val\n",
    "            return\n",
    "        self.visit(tree.left)\n",
    "    def kthLargest(self, root: TreeNode, k: int) -> int:\n",
    "        if root is None:\n",
    "            return None\n",
    "        self.total=k\n",
    "        self.ct=0\n",
    "        self.ret=0\n",
    "        self.visit(root)\n",
    "        return self.ret"
   ]
  },
  {
   "cell_type": "markdown",
   "metadata": {},
   "source": [
    "# 32 - II. 从上到下打印二叉树 II20200812"
   ]
  },
  {
   "cell_type": "raw",
   "metadata": {},
   "source": [
    "class Solution:\n",
    "    def levelOrder(self, root: TreeNode) -> List[List[int]]:\n",
    "        if root is None:\n",
    "            return []\n",
    "        ret=[]\n",
    "        listnow=[root]\n",
    "        while len(listnow)>0:\n",
    "            va=[]\n",
    "            for value in listnow:\n",
    "                va.append(value.val)\n",
    "            ret.append(va)\n",
    "            listtmp=[]\n",
    "            for node in listnow:\n",
    "                if node.left is not None:\n",
    "                    listtmp.append(node.left)\n",
    "                if node.right is not None:\n",
    "                    listtmp.append(node.right)\n",
    "            listnow=listtmp\n",
    "        return ret"
   ]
  },
  {
   "cell_type": "markdown",
   "metadata": {},
   "source": [
    "# 55 - I. 二叉树的深度 20200812"
   ]
  },
  {
   "cell_type": "raw",
   "metadata": {},
   "source": [
    "class Solution:\n",
    "    def maxDepth(self, root: TreeNode) -> int:\n",
    "        ct=0\n",
    "        if root is None:\n",
    "            return 0\n",
    "        node=[root]\n",
    "        while node!=[]:\n",
    "            ct+=1\n",
    "            nodetmp=[]\n",
    "            for node1 in node:\n",
    "                if node1.left is not None:\n",
    "                    nodetmp.append(node1.left)\n",
    "                if node1.right is not None:\n",
    "                    nodetmp.append(node1.right)\n",
    "            node=nodetmp\n",
    "        return ct"
   ]
  },
  {
   "cell_type": "markdown",
   "metadata": {},
   "source": [
    "# 55 - II. 平衡二叉树 20200812"
   ]
  },
  {
   "cell_type": "raw",
   "metadata": {},
   "source": [
    "class Solution:\n",
    "    def deep(self,node):\n",
    "        if node is None:\n",
    "            return 0\n",
    "        nodelist=[node]\n",
    "        ct=0\n",
    "        while nodelist!=[]:\n",
    "            nodetmp=[]\n",
    "            ct+=1\n",
    "            for node1 in nodelist:\n",
    "                if node1.left is not None:\n",
    "                    nodetmp.append(node1.left)\n",
    "                if node1.right is not None:\n",
    "                    nodetmp.append(node1.right)\n",
    "            nodelist=nodetmp\n",
    "        return ct\n",
    "    def isBalanced(self, root: TreeNode) -> bool:\n",
    "        if root is None:\n",
    "            return True\n",
    "        if abs(self.deep(root.left)-self.deep(root.right))<2:\n",
    "            ret=True\n",
    "        else:\n",
    "            ret=False\n",
    "        return self.isBalanced(root.left) and self.isBalanced(root.right) and ret"
   ]
  },
  {
   "cell_type": "markdown",
   "metadata": {},
   "source": [
    "# 68 - I. 二叉搜索树的最近公共祖先 20200813"
   ]
  },
  {
   "cell_type": "raw",
   "metadata": {},
   "source": [
    "class Solution:\n",
    "    def lowestCommonAncestor(self, root: 'TreeNode', p: 'TreeNode', q: 'TreeNode') -> 'TreeNode':\n",
    "        if root.val<p.val and root.val<q.val:\n",
    "            return self.lowestCommonAncestor(root.right,p,q)\n",
    "        if root.val>p.val and root.val>q.val:\n",
    "            return self.lowestCommonAncestor(root.left,p,q)\n",
    "        return root"
   ]
  },
  {
   "cell_type": "markdown",
   "metadata": {},
   "source": [
    "# 68 - II. 二叉树的最近公共祖先 20200813"
   ]
  },
  {
   "cell_type": "raw",
   "metadata": {},
   "source": [
    "class Solution:\n",
    "    def lowestCommonAncestor(self, root: TreeNode, p: TreeNode, q: TreeNode) -> TreeNode:\n",
    "        if not root or root==p or root==q:\n",
    "            return root\n",
    "        left=self.lowestCommonAncestor(root.left,p,q)\n",
    "        right=self.lowestCommonAncestor(root.right,p,q)\n",
    "        if not left:\n",
    "            return right\n",
    "        if not right:\n",
    "            return left\n",
    "        return root"
   ]
  },
  {
   "cell_type": "markdown",
   "metadata": {},
   "source": [
    "# 32 - III. 从上到下打印二叉树 III 20200814"
   ]
  },
  {
   "cell_type": "raw",
   "metadata": {},
   "source": [
    "class Solution:\n",
    "    def levelOrder(self, root: TreeNode) -> List[int]:\n",
    "        ret=[]\n",
    "        if not root:\n",
    "            return ret\n",
    "        nodenow=[root]\n",
    "        while nodenow!=[]:\n",
    "            nodetmp=[]\n",
    "            for idx in nodenow:\n",
    "                ret.append(idx.val)\n",
    "                if idx.left:\n",
    "                    nodetmp.append(idx.left)\n",
    "                if idx.right:\n",
    "                    nodetmp.append(idx.right)\n",
    "            nodenow=nodetmp\n",
    "        return ret"
   ]
  },
  {
   "cell_type": "markdown",
   "metadata": {},
   "source": [
    "# 32 - III. 从上到下打印二叉树 III 20200814"
   ]
  },
  {
   "cell_type": "raw",
   "metadata": {},
   "source": [
    "class Solution:\n",
    "    def levelOrder(self, root: TreeNode) -> List[List[int]]:\n",
    "        ret=[]\n",
    "        if not root:\n",
    "            return ret\n",
    "        nodenow=[root]\n",
    "        sign=0\n",
    "        while nodenow!=[]:\n",
    "            nodetmp=[]\n",
    "            rettmp=[]\n",
    "            for i in range(len(nodenow)-1,-1,-1):\n",
    "                rettmp.append(nodenow[i].val)\n",
    "                if sign==0:\n",
    "                    if nodenow[i].left:\n",
    "                        nodetmp.append(nodenow[i].left)\n",
    "                    if nodenow[i].right:\n",
    "                        nodetmp.append(nodenow[i].right)\n",
    "                else:\n",
    "                    if nodenow[i].right:\n",
    "                        nodetmp.append(nodenow[i].right)\n",
    "                    if nodenow[i].left:\n",
    "                        nodetmp.append(nodenow[i].left)\n",
    "            ret.append(rettmp)\n",
    "            nodenow=nodetmp\n",
    "            sign=1-sign\n",
    "        return ret"
   ]
  },
  {
   "cell_type": "code",
   "execution_count": 1,
   "metadata": {},
   "outputs": [
    {
     "name": "stdout",
     "output_type": "stream",
     "text": [
      "5\n",
      "4\n",
      "3\n",
      "2\n"
     ]
    }
   ],
   "source": [
    "for i in range(5,1,-1):\n",
    "    print(i)"
   ]
  }
 ],
 "metadata": {
  "kernelspec": {
   "display_name": "Python 3.7.4 64-bit ('base': conda)",
   "language": "python",
   "name": "python37464bitbaseconda049863b5fc5340589509d775d8afef94"
  },
  "language_info": {
   "codemirror_mode": {
    "name": "ipython",
    "version": 3
   },
   "file_extension": ".py",
   "mimetype": "text/x-python",
   "name": "python",
   "nbconvert_exporter": "python",
   "pygments_lexer": "ipython3",
   "version": "3.7.4"
  }
 },
 "nbformat": 4,
 "nbformat_minor": 2
}
